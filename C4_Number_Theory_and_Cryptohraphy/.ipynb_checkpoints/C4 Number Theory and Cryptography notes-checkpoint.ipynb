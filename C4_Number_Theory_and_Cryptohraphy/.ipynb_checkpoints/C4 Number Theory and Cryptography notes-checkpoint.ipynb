{
 "cells": [
  {
   "cell_type": "markdown",
   "metadata": {},
   "source": [
    "# W1. Modular Arithmetic\n"
   ]
  },
  {
   "cell_type": "markdown",
   "metadata": {},
   "source": [
    "## 1.1 Divisibility"
   ]
  },
  {
   "cell_type": "markdown",
   "metadata": {},
   "source": [
    "### Numbers"
   ]
  },
  {
   "cell_type": "markdown",
   "metadata": {},
   "source": [
    "- We are used to number and use them constantly\n",
    "- It all started with counting: 1, 2, 3 ...\n",
    "\n",
    "Inverse operations are also possible:\n",
    "- substraction is inverse to addition\n",
    "- division is inverse to multiplication\n",
    "\n",
    "#### Integer Numbers\n",
    "Q: Substraction is not always possible, for example 2 - 3 = ?  \n",
    "A: Solution: negative numbers and zero\n",
    "- Now we have ints -3, -2, ... 2, 3 and substraction is possible\n",
    "- multiplication can be also extended to negative numbers  \n",
    "\n",
    "Q: Division is not always possible: 3/2 = ?  \n",
    "A: Solution: rational numbers\n",
    "\n",
    "#### Number Theory\n",
    "- Number theory: studies integers and operations on them\n",
    "- Basics of number theory have natural applications:\n",
    "- Advanced number theory had not\n",
    "- (Stated explicitly by top number theorists Godfrey Hardy, Leonard Dickson)\n",
    "\n",
    "\n",
    "- **but**, virtually every theorem in elementary number theory arises in a natural, motivated way in connection with the problem of making computers do high-speed numerical calculations (C) Donald Knuth\n",
    "- Hovewer even more number theory is vital for the modern cryptography\n",
    "- Through cryptography it dramatically affects our life: email, messengers, online transactions, Internet as a whole, etc."
   ]
  },
  {
   "cell_type": "markdown",
   "metadata": {},
   "source": [
    "### Divisibility"
   ]
  },
  {
   "cell_type": "markdown",
   "metadata": {},
   "source": [
    "- Division is not always possible over integers\n",
    "- Its needed to identify the cases when it is possible\n",
    "\n",
    "Q: What does it mean that number a is divisible by b?  \n",
    "A (Naive): Consider a rational number $\\frac {a}{b}$; if it is integer, then a is divisible by b.\n",
    "\n",
    "However, Naive answer reduces the question to the more complex one\n",
    "\n",
    "$\\frac {a}{b} == int$ means that the denominator cancels out =>  \n",
    "it can be represented as a product of two integers:  \n",
    "b and other integer k: $ k: a = b \\times k$  \n",
    "then we have $\\frac {a}{b} = \\frac{b\\times k}{b} = k$\n",
    "\n",
    "`Divisibility`: a is divisible by b (or b divides a) denoted by $b | a$  \n",
    "if there is an integer k such that $a = b \\times k$\n",
    "Intuitive sense of this definition is following:\n",
    "1. Suppose we have a objects\n",
    "2. We would like to split them into groups of size b\n",
    "3. This is possible if a is divisible by b\n",
    "4. k is the resulting number of groups\n",
    "\n",
    "#### Example:\n",
    "- a = 15 is divisible by b = 3, bcs we can pick k = 5:  \n",
    "a = 15 = 3 x 5 = b x k\n",
    "- Note: based on formal notion of divisibility in Number Theory we do not forbid divisibility by 0! And it turns out that 0 (unlike any other integer number) is divisible by 0.\n",
    "\n",
    "#### Properties\n",
    "- Why do we care about formal definitions if everything is trivial with specific numbers?\n",
    "- Formal definitions allow to prove general properties:  \n",
    "`Lemma`: if $c$ divides $a$ and $c$ divides $b$, then $c$ divides $a \\pm b$\n",
    "\n",
    "#### Problem\n",
    "Suppose b | a. Is it true that b|3a? (| - \"such that\")\n",
    "- Yes, this is true by definition (k is simply multiplied by 3)\n"
   ]
  },
  {
   "cell_type": "markdown",
   "metadata": {},
   "source": [
    "### Quiz. Divisibility\n",
    "1. Which of the following numbers divides 0? Use our formal notion of divisibility to answer this question?\n",
    "A: 0, 2, 3, 1, -1;  \n",
    "By definition a number a divides 0 if there is k such that $0=a\\times k$. So each integer number aa divides 0: just pick \\(\\k=0).\n",
    "\n",
    "\n",
    "2. Which of the following numbers are divisible by 0? Use our formal notion of divisibility to answer this question.\n",
    "A: 0;  \n",
    "By definition 00 is divisible by 00 if there is an integer kk such that 0=k\\times 00=k×0. Clearly, any kk would satisfy the equation."
   ]
  },
  {
   "cell_type": "markdown",
   "metadata": {},
   "source": [
    "### External Tool. Take the Last Rock\n",
    "\n",
    "http://dm.compsciclub.ru/app/quiz-take-the-last-rock\n",
    "\n",
    "idea: avoid n divisible by 3 at any cost!  \n",
    "If you number of rocks is divisible by 3 and it is your move -> you lose!  \n",
    "Give opponent only stones divisible by 3."
   ]
  },
  {
   "cell_type": "markdown",
   "metadata": {},
   "source": [
    "### Remainders\n",
    "\n",
    "- Division over integers is not always possible\n",
    "- But we can generalize it\n",
    "- Remainders should always be positive (-33 % 7 == 2); -33 = 7 x -5 + r; r = 2 \n",
    "\n",
    "`Division with remainder`:  \n",
    "Suppose b is a positive integer. The result of the division of a by b with a remainder is a pair of integers, q called quotient and r called a remainder such that:  \n",
    "$ a = q \\times b + r $  \n",
    "and  \n",
    "0<= r < b\n",
    "\n",
    "#### Example\n",
    "\n",
    "a = 15, b = 4, Then 15 = 3 x 4 + 3 and q=3, r=3\n",
    "\n",
    "#### Division with Remainders\n",
    "\n",
    "a = q x b + r and 0 <= r < b\n",
    "- Why such g and r exist?\n",
    "- This is simple: just form groups of a objects one by one until we are left with the amount that is not enough for the new group. The number of groups is q and the number of remaining objects is r\n",
    "- More formally: substract b from a recursively until the result is less than b; the result is the remainder r and the number of substractions is q\n",
    "- What if a is negative? Just add b instead of substraction\n",
    "\n",
    "#### Connection to Divisibility\n",
    "`Lemma` : integers $a_1$ and $a_2$ have the same remainder  \n",
    "when divided by b if $a_1 - a_2$ is divisible by b\n",
    "- indeed, suppose $a_1$ and $a_2$ have the same remainder r:  \n",
    "$a_1 = q_1 \\times b + r$  \n",
    "$a_2 = q_2 \\times b + r$\n",
    "\n",
    "- then $a_1 - a_2 = q_1 \\times b - q_2 \\times b = (q_1 - q_2) \\times b$ and $b | (a_1 - a_2) $\n",
    "\n",
    "- In the other direction suppose $b | (a_1 - a_2)$\n",
    "- Then $a_1 - a_2 = k \\times b$\n",
    "- $a_2$ has some remainder when divided by b::\n",
    "$a_2 = q_1 \\times b + r, for 0 <= r < b$\n",
    "- Then $a_1 = a_2 + k \\times b = (q_1 + k) \\times b + r$ and $a_1$ has the same remainder"
   ]
  },
  {
   "cell_type": "markdown",
   "metadata": {},
   "source": [
    "### Note. Python code for remainders"
   ]
  },
  {
   "cell_type": "code",
   "execution_count": 1,
   "metadata": {},
   "outputs": [],
   "source": [
    "a=-33\n",
    "print(a%7)\n",
    "print(a//7)"
   ]
  },
  {
   "cell_type": "markdown",
   "metadata": {},
   "source": [
    "### Practice quiz. Four Numbers\n",
    "Q: Is it true that for any four integers a, b, c, d there are two of them whose difference is divisible by 3?  \n",
    "A: Yes, there are only three possible remainders when dividing by 3. So, among four integers a, b, c, d there are two with the same remainder when divided by 3. The difference of these two numbers is always divisible by 3. See the next video for the discussio"
   ]
  },
  {
   "cell_type": "markdown",
   "metadata": {},
   "source": [
    "### Practice quiz. Division by 101\n",
    "Q:How many 3-digit non-negative numbers are there that have remainder 7 when divided by 101? Here we assume that 1-digit and 2-digit numbers are also 3-digit, they just start with 0.\n",
    "\n",
    "A: 10, all numbers aa having the remainder 7 when divided by 101 have the form $a=7+q\\times 101$ for integer q. The number a given by this expression is non-negative and 3-digit for q between 0 and 9, inclusive. (When q = 7: 007 % 101 = 7)"
   ]
  },
  {
   "cell_type": "markdown",
   "metadata": {},
   "source": [
    "### Quiz. Properties of Divisibility\n",
    "Q: Is it true that among any 4 consecutive integer numbers there is one that is divisible by 4?  \n",
    "A: This is correct! Indeed, if we fix some remainder after division by 4 then (as we discussed in one of the videos) every fourth number will have this remainder. So among any four consecutive numbers there are all four possible remainders presented. So one of the numbers has remainder 0 and thus is divisible by 4.\n",
    "\n",
    "Q: Is it true that among any 4 consecutive integer numbers there is one that is divisible by 5?  \n",
    "A: This is correct! Indeed, we can just consider numbers 1, 2, 3 and 4. None of them is divisible by 5."
   ]
  },
  {
   "cell_type": "markdown",
   "metadata": {},
   "source": [
    "### Divisibility Tests\n",
    "\n",
    "#### Division by 10\n",
    "\n",
    "##### Problem\n",
    "What is the remainder and the quotient of 3756 when divided by 10?\n",
    "- Decimal system is convenient here\n",
    "- 3756 = 3750 + 6 = 375 x 10 + 6\n",
    "- remainder is 6 quotient is 375\n",
    "\n",
    "##### Lemma\n",
    "\n",
    "Suppose we divide a by 10 with a remainder. Then the remainder is the last digit of a and the quotient is the number formed by all digits of a except the last one. In particular we have the following\n",
    "\n",
    "##### Corollary\n",
    "\n",
    "An integer a is divisible by 10 if its last digit is 0\n",
    "- Indeed, 10 | a if the remainder is 0\n",
    "- And the remainder is the last digit\n",
    "\n",
    "#### Divisibility by 5\n",
    "\n",
    "##### Problem\n",
    "Is 7347 divisible by 5?\n",
    "- Let's use the same trick\n",
    "- 7347 = 7340 + 7 = 734 x 10 + 7 = (734 x 2) x 5 + 5 + 2\n",
    "\n",
    "##### Lemma\n",
    "An integer a is divisible by 5 if its last digit is 0 or 5\n",
    "- Indeed, denote the last digit of a by b\n",
    "- Then a - b has the last digit 0\n",
    "- Thus a - b is divisible by 5\n",
    "- As we have shown this means that a and b have the same reminder when divided by 5\n",
    "- b has reminder 0 only if it is 0 or 5\n",
    "\n",
    "#### Divisibility by 2\n",
    "\n",
    "##### Lemma\n",
    "An integer a is divisible by 2 if its last digit is 0,2,4,6 or 8\n",
    "- The proof is completely the same \n",
    "- Denote the lasе digit of a by b\n",
    "- Then a - b has the last digit 0 and is divisible by 2"
   ]
  },
  {
   "cell_type": "markdown",
   "metadata": {},
   "source": [
    "#### Summary\n",
    "- Number theory studies integer numbers\n",
    "- Important for fast numerical computations\n",
    "- Vital for cryptography\n",
    "- We discussed basic notions: divisibility and remainders \n",
    "- We will use them to build more advanced theory"
   ]
  },
  {
   "cell_type": "markdown",
   "metadata": {},
   "source": [
    "## 1.2 Division by 2"
   ]
  },
  {
   "cell_type": "markdown",
   "metadata": {},
   "source": [
    "### Division by 2\n",
    "\n",
    "- Consider division of integers by 2\n",
    "- There are 2 possible remainders: 0 and 1\n",
    "- If the remainder of a is 0, then a is divisible by 2\n",
    "- These are even number\n",
    "- If the remainder of a is 1, a is not divisible by 2\n",
    "- These are odd numbers\n",
    "\n",
    "### Sums of Even and Odd numbers \n",
    "\n",
    "`Splitting in pairs`. Suppose there are two classes with a and b students respectively. We unite the classes and would like to split all students into pairs to work on a project. Is it possible if a is even and b is odd? What if both a and b are even? What if both a and b are odd?\n",
    "\n",
    "- If a is even and b is odd we can split in paris all students in the first class and all students except one in the second class (no)\n",
    "- If both a and b are even, we can just split students in pairs in both classes separately (yes)\n",
    "- If both a and b are odd, we can split into pairs all students except one in the first class and all student except one in the second class (yes)\n",
    "\n",
    "- So there is one student left and the answer is no\n",
    "\n",
    "`Remainder of a sum`. Suppose we know the remainders of a and b when divided by 2. Can we deduce the remainder of a + b? Yes\n",
    "- If both a and b are even: $2 \\times q_1$ and $2 \\times q_2$, sum is $2 \\times (q_1 + q_2)$ is even\n",
    "- If a even and is odd: $2 \\times q_1$ and $2 \\times q_2 + 1$, sum is $2 \\times (q_1 + q_2) + 1$ is odd\n",
    "- If both a and b are odd: $2 \\times q_1 + 1$ and $2 \\times q_2 + 1$, sum $2 \\times (q_1 + q_2 + 1)$ is even\n",
    "\n",
    "`Remainder of an opposite`. Suppose we know the remainder of a when divided by 2. Can we deduce the remainder of -a? Yes, it is the same (just negative).\n",
    "\n",
    "`Remainder of a subtraction`. The remainder of a-b is the same as the remainder of a+b when divided by 2? Yes\n",
    "\n",
    "`Remainder of a product`. Suppose we know the remainders of a and b when divided by 2. Can we deduce the remainder of a x b? Yes\n",
    "\n",
    "Problem. What is the remainder of $374 \\times (419 + 267 \\times 38) - 625$ when divided by 2?\n",
    "- Substitute all numbers by remainders: $0 \\times (1 + 1 \\times 0) - 1$ -> $1$\n",
    "\n",
    "### Binary System\n",
    "\n",
    "#### Consider decimal system first:\n",
    "- What is the decimal system?\n",
    "- We represent numbers by sequences of digits\n",
    "- Which number is represented by 3926\n",
    "- The number writtern here is  \n",
    "$3926 = 3000 + 900 + 20 + 6 = 3 \\times 10^3 + 9 \\times 10^2 + 2 \\times 10^1 + 6 \\times 10^0$\n",
    "- In general digits are multiplied by powers of 10\n",
    "- Note that each non-negative integer has a unique representation\n",
    "\n",
    "#### Now, lets consider binary system:\n",
    "- The similar operation to the operation shown above: lets make the same trick with powers of 2\n",
    "- There are only 2 bits 0 and 1 now instead of ten digits\n",
    "- An example of binary representation: 101101\n",
    "- The number can be written as:  \n",
    "$101101 = 1 \\times 2^5 + 0 \\times 2^4 + 1 \\times 2^3 + 1 \\times 2^2 + 0 \\times 2^1 + 1 \\times 2^0 = 2^5 + 2^3 + 2^2 + 2^0 = 32 + 8 + 4 + 1 = 45$\n",
    "- Binary system is important since computer uses it\n",
    "\n",
    "#### Binary system and remainders\n",
    "\n",
    "`Lemma`\n",
    "Suppose we divide a by 2 with a remainder. Then the remainder is the last bit of binary representation of a and the quotient is the number formaed by all bits of the binary representation of a except the last one.\n",
    "- The proof is the sames as for the decimal system\n",
    "- For simplicity consider some specific number, say, 11101 in binary\n",
    "$11101 = 1 \\times 2^4 + 1 \\times 2^3 + 1 \\times 2^2 + 0 \\times 2^1 + 1 \\times 2^0 = (2^3 + 2^2 + 2^1) \\times 2 + 1$\n",
    "- So, the remainder is 1 and quotient is 1110 in binary\n"
   ]
  },
  {
   "cell_type": "code",
   "execution_count": 2,
   "metadata": {},
   "outputs": [],
   "source": [
    "'''Note, that there is binary shift operation in Python \n",
    "that removes the last bit from binary representation of a number:'''\n",
    "\n",
    "\n",
    "'''By our Lemma for non-negative numbers this operation computes \n",
    "exactly the quotient of the number when divided by 2'''\n",
    "\n",
    "print(29 >> 1)"
   ]
  },
  {
   "cell_type": "markdown",
   "metadata": {},
   "source": [
    "- Why binary system works? \n",
    "- Why every integer is representable? \n",
    "- Why the representation is unique?"
   ]
  },
  {
   "cell_type": "markdown",
   "metadata": {},
   "source": [
    "#### Binary System and Logarithm\n",
    "- How many bits are needed to represent a given number a?\n",
    "- Observe that to represent $2^n$ we need $n + 1$ bits: $2^4$ is $10000$\n",
    "- And $2^n-1$ is the smallest number that requires $n$ bits: $2^4 - 1 = 2^3 + 2^2 + 2^1 + 1$ is $1111$\n",
    "- The number of bits that is needed to represent a is determined the largest n such that $2^n <= a$: it is equal to n+1 \n",
    "- Recall that for real number x > 0 by $log_{2}x$ is deonted the number y such that $2^y = x$\n",
    "- Logarithm is the inverse function to exponentiation: $log_{2}2^{y} = y$\n",
    "- In particular, $log_{2}2^{n} = n$\n",
    "- Binary logarithm has a clear meaning in terms of binary representation\n",
    "- Lets move to lemma\n",
    "\n",
    "#### Lemma\n",
    "The number of bits needed to represent an integer a in binary representation is equal to $\\lfloor log_2 a \\rfloor + 1$\n",
    "- By $\\lfloor x \\rfloor$ we denote the largest integer that is less or equal to (possibly non-integer) $x$\n",
    "- Lemma is True bcs:\n",
    "    - Recall that the number of bits in binary representation of $a$ is $n + 1$, where $n$ is the largest number such that $2^n <= a$\n",
    "    - Applying logarithm to both sides of inequality we obtain that $n$ is the largest number such that $n <= log_2 a$\n",
    "    \n",
    "###"
   ]
  },
  {
   "cell_type": "markdown",
   "metadata": {},
   "source": [
    "## 1.3 Modular Arithmetic\n",
    "\n",
    "#### Remainders\n",
    "Problem: what is the remainder of $17 \\times (12 \\times 19 + 5) - 23$ when divided by 3? To answer that question Congruence relations are intoruced"
   ]
  },
  {
   "cell_type": "markdown",
   "metadata": {},
   "source": [
    "#### Congruence Relations\n",
    "`Definition`\n",
    "We say that two numbers $a$ and $b$ are congruent modulo m if they have the same remainder when divided by $m$.  \n",
    "We write $a \\equiv b$ (mod  m)\n",
    "- As we discussed, equivalently, $a \\equiv b$ (mod m) $\\iff$(if and only if) $a-b$ is divisible by $m$\n",
    "- Every number $a$ is congruent modulo m to all numbers $a + k \\times m$ for all integers $k$\n",
    "- In particular, if $r$ is a remainder of $a$ when divided by $m$, then $a\\equiv r$ (mod m)\n",
    "\n",
    "Congruence relations has the following properties:  \n",
    "\n",
    "`Addition of constant`  \n",
    "If $a \\equiv b$ (mod m) then $a + c \\equiv b + c$ (mod m) for any $c$:\n",
    "- If we add the same number to 2 congruent numbers the results will also be congruent\n",
    "- Indeed, congruence of $a$ and $b$ modulo m means that $m | (a-b)$\n",
    "- Note that $ (a+c) - (b+c) = a - b$, so it is also divisible by $m$\n",
    "\n",
    "`Addition`  \n",
    "if $a \\equiv b$ (mod m) and $c \\equiv d$ (mod m), then  \n",
    "$a+c \\equiv b+d$ (mod m)\n",
    "- That is, congruence is preserved under addition\n",
    "- The proof is following:  \n",
    "$a + c \\equiv a + d \\equiv b + d$ (mod m)\n",
    "\n",
    "Problem example:\n",
    "What is the remainder of \n",
    "14 + 41 + 20 + 13 + 29\n",
    "when divided by 4? \n",
    "- We can apply our results\n",
    "- We can find a remainder that is congruent to this sum:\n",
    "$14 + 41 + 20 + 13 + 29 \\equiv 2 + 1 + 0 + 1 + 1 \\equiv 5 \\equiv 1$ (mod 4)\n",
    "\n",
    "`Multiplication by a constant`  \n",
    "If $a \\equiv b$ (mod m) then $a \\times c \\equiv b \\times c$ (mod m) for any c\n",
    "- That is, if we multiply 2 congruent nums by the same num, the results will also be congruent\n",
    "- Indeed, congruence of $a$ and $b$ modulo $m$ means that $m|(a-b)$\n",
    "- But them $m | c \\times (a-b)$\n",
    "\n",
    "`Multiplication`  \n",
    "If $a \\equiv b $ (mod m) and $c \\equiv d$ (mod m), then $a \\times c \\equiv b \\times d$ (mod m)\n",
    "- That is, congruence is preserved under multiplication\n",
    "- The proof is just like for addition:  \n",
    "$a \\times c \\equiv a \\times d \\equiv b \\times d$ (mod m)\n",
    "- Note that we just use the previous property twice:  \n",
    "$a \\times c \\equiv a \\times d$ (mod m)  \n",
    "$a \\times d \\equiv b \\times d$ (mod m)  \n",
    "are just multiplication of congruent numbers by constants\n",
    "\n",
    "Lets check the problem again:\n",
    "Remainder of $17 \\times (12 \\times 19 + 5) - 23$ (mod 3)?  \n",
    "Is equivalent to:\n",
    "$2 \\times (0 \\times 1 + 2) - 2 = 2 \\times 2 - 2 = 2$"
   ]
  },
  {
   "cell_type": "markdown",
   "metadata": {},
   "source": [
    "### Quiz. Modular Arithmetic\n",
    "1. What is the remainder of $(77 + 95 \\times 79) \\times 82$ (mod 3)?   \n",
    "$(77 + 95 \\times 79) \\times 82$ (mod 3) = $(2 + 2 \\times 1) \\times 1 = 4$ (mod 3) = 1\n",
    "\n",
    "Correct\n",
    "This is correct!  \n",
    "Indeed, we can substitute each number by a congruent modulo 3 and the remainder will remain the same.   \n",
    "Substituting each number by 0, 1 or −1 we get  \n",
    "(−1+(−1)×1)×1≡(−2)×1≡1(mod3).  \n",
    "2. What is the remainder of $(34 - 14 \\times 25) \\times (23 \\times 18 + 87)$ mod 5?  \n",
    "$(34 - 14 \\times 25) \\times (23 \\times 18 + 87)$ (mod 5) =  \n",
    "$(4 - 4 \\times 0) \\times (3 \\times 3 + 2)$ (mod 5) = $4 \\times 11$ (mod 5) = 4\n",
    "\n",
    "Correct\n",
    "This is correct!  \n",
    "Indeed, we can substitute each number by a congruent modulo 5 and the remainder will remain the same.  \n",
    "Substituting each number by 0, 1, 2, −1 or -2 we get  \n",
    "(−1−(−1)×0)×((−2)×(−2)+2)≡(−1)×(6)≡−6≡4(mod5)."
   ]
  },
  {
   "cell_type": "markdown",
   "metadata": {},
   "source": [
    "### Applications\n",
    "`Problem`  \n",
    "What are the last 2 digits of the number $99^{99}$?\n",
    "- The number itself is huge; it would be nice not to compute i\n",
    "- We can use remainders\n",
    "- The number consisting of last 2 digits from a remainder after the division by 100\n",
    "- So we are interested in the remainder after the division by 100\n",
    "- Consider $99^{99}$ modulo 100\n",
    "- Note that $99 \\equiv -1$ (mod 100)\n",
    "- So $ 99^{99} \\equiv (-1)^{99} \\equiv -1 \\equiv 99 $ (mod 100)\n",
    "- Remainder is 99\n",
    "\n",
    "`Problem`  \n",
    "Is the 3475 divisible by 3?\n",
    "- We can compute the remainder after the division by 3: the number is divisible iff the remainder is 0\n",
    "- But how to compute the remainder?\n",
    "- 3475 = 3000 + 400 + 70 + 5 = $ 3 \\times 10^3 + 4 \\times 10^2 + 7 \\times 10 + 5$\n",
    "- Note that $10 \\equiv 1$ (mod 3)\n",
    "- Thus $10^k \\equiv 1^k \\equiv 1$ (mod 3) \n",
    "- So we have $3 + 4 + 7 +5 \\equiv 19 \\equiv 1$ (mod 3)\n",
    "- So 3475 is not divisible by 3\n",
    "- Observe the following intermediate step in our solution:\n",
    "$3475 \\equiv 3 \\times 10^3 + 4 \\times 10^2 + 7 \\times 10 + 5 \\equiv 3 + 4 + 7 + 5$ \n",
    "- We have that $10^k \\equiv 1$ (mod 3) for all k -> this step works for all numbers!\n",
    "\n",
    "`Divisibility by 3`  \n",
    "An integer a is congruent modulo 3 to the sum of its digits in particular, s is divisible by 3 iff the sum of its digits is divisible by 3"
   ]
  },
  {
   "cell_type": "markdown",
   "metadata": {},
   "source": [
    "### Remainders of Large Numbers\n",
    "1. What is the remainder of the number 762341 when divided by 3?  \n",
    "$762341$ (mod 3) $\\equiv 7 + 6 + 2 + 3 + 4 + 1$ (mod 3) $\\equiv 23$ (mod 3) = 2\n",
    "\n",
    "\n",
    "2. What is the remainder of the number $12^{100}$ when divided by 11?  \n",
    "$12^{100}$ (mod 11) $\\equiv 1^{100}$ (mod 11) = 1\n",
    "\n",
    "3.What is the remainder of the number $4632^{10}$ when divided by 10?\n",
    "$4632^{10}$ (mod 10) $\\equiv 2^{10}$ (mod 10) $\\equiv 32^2$ (mod 10) $\\equiv 2^2$ (mod 10) = 4"
   ]
  },
  {
   "cell_type": "markdown",
   "metadata": {},
   "source": [
    "### Modular Subtraction and Division\n",
    "- Recall that any number is congruent to its remainder modulo $m$\n",
    "- We can represent all numbers by their remainders\n",
    "- Arithmetic operations preserve congruence\n",
    "- We can create arithmetic operation tables for remainders\n",
    "- Consider addition modulo 7\n",
    "- *Modular addition/multiplication tables\n",
    "- Using these tables we can perform modular computations:\n",
    "    - Substitute all numbers in an arithmetic expression by their remainders and apply operations according to the tables\n",
    "    - Tables are also convenient to observe properties of operations\n",
    "    \n",
    "Suppose we have two numbers $a$ and $b$. Is there $x$ such that $a + x \\equiv b$ (mod 7)?\n",
    "- Yes, each row contains all possible remainders\n",
    "- $a$ is the row and $b$ is the target value; $x$ is a column\n",
    "- Given $a$ and $b$ consider $x$ such that $a + x \\equiv b$ (mod 7)\n",
    "- $x$ exists for any module m\n",
    "- $x$ plays the role of modular b - a\n",
    "- Existence of x is natural: we can just pick b - a as an integer and consider the corresponding remainder\n",
    "\n",
    "\n",
    "Suppose we have two nonzero numbers $a$ and $b$. Is there $x$ such that $a \\times x \\equiv b$ (mod 7)?  \n",
    "- Each nonzero row contains all possible remainders!\n",
    "- $a$ is the row and $b$ is the target value; x is a column\n",
    "- Given $a != 0$ and $b$ consider $x$ such that $a \\times x \\equiv b$ (mod 7)\n",
    "- Lets consider multiplication modulo 6:\n",
    "    - There is no x such that $3 \\times x \\equiv 1$ (mod 6)\n",
    "    \n",
    "### Modular Division Quiz.\n",
    "\n",
    "- Multiplication table for remainders modulo 7 question 1\n",
    "- Multiplication table for remainders modulo 7 question 2  \n",
    "Nothing special"
   ]
  },
  {
   "cell_type": "markdown",
   "metadata": {},
   "source": [
    "# W2. Euclids Algorithm\n",
    "\n",
    "## Euclids Algoritm\n",
    "\n",
    "### Greatest Common Divisor\n",
    "`Definition`  \n",
    "The greatest common divisor, gcd (a,b) of integers a and b (not both equal to zero) is the largest integer that divides both a and b\n",
    "\n",
    "`Examples`  \n",
    "gcd(24, 16) = 8,  \n",
    "gcd(9, 17) = 1,  \n",
    "gcd(239, 0) = 239\n",
    "\n",
    "`Conclusion`  \n",
    "We assume that a and b are non-negative\n",
    "\n",
    "#### First application: Computing Inverses\n",
    "Given integers $a$ and $n$ how to find an integer k such that  \n",
    "$ak \\equiv 1$ mod n?  \n",
    "Basic primitive in modern crypto protocols, used billions times per day\n",
    "\n",
    "#### Second application: computing fractions:\n",
    "$$\\frac{31}{177} + \\frac{29}{59} = \\frac{31 \\times 59 + 177 \\times 29}{177 \\times 59} = \\frac{6952}{10443} = \\frac{2}{3}$$"
   ]
  },
  {
   "cell_type": "code",
   "execution_count": 3,
   "metadata": {},
   "outputs": [
    {
     "name": "stdout",
     "output_type": "stream",
     "text": [
      "2/3\n"
     ]
    }
   ],
   "source": [
    "from fractions import Fraction\n",
    "print(Fraction(31,177) + Fraction(29, 59))"
   ]
  },
  {
   "cell_type": "markdown",
   "metadata": {},
   "source": [
    "#### Naive Algorithm\n",
    "To find the gcd, simply try all numbers and select the largest one"
   ]
  },
  {
   "cell_type": "code",
   "execution_count": 4,
   "metadata": {},
   "outputs": [
    {
     "name": "stdout",
     "output_type": "stream",
     "text": [
      "3.44 µs ± 77.3 ns per loop (mean ± std. dev. of 7 runs, 100000 loops each)\n"
     ]
    }
   ],
   "source": [
    "def gcd(a,b):\n",
    "    assert a >= 0 and b >= 0 and a + b > 0\n",
    "    \n",
    "    if a == 0 or b == 0:\n",
    "        return max(a, b)\n",
    "    \n",
    "    for d in range(min(a, b), 0, -1):\n",
    "        if a % d == 0 and b % d == 0:\n",
    "            return d\n",
    "        \n",
    "    return 1\n",
    "\n",
    "%timeit gcd(75,130)"
   ]
  },
  {
   "cell_type": "code",
   "execution_count": 5,
   "metadata": {},
   "outputs": [
    {
     "name": "stdout",
     "output_type": "stream",
     "text": [
      "1\n",
      "4.768291234970093\n"
     ]
    }
   ],
   "source": [
    "from time import time\n",
    "t1 = time()\n",
    "print(gcd(79093379, 184963952))\n",
    "print(time()-t1)"
   ]
  },
  {
   "cell_type": "markdown",
   "metadata": {},
   "source": [
    "### Greatest Common Divisor. Quiz\n",
    "(nothing special)"
   ]
  },
  {
   "cell_type": "markdown",
   "metadata": {},
   "source": [
    "### Euclids Algorithm\n",
    "\n",
    "#### Euclid's Lemma\n",
    "`Euclids Lemma`  \n",
    "$d$ divides $a$ and $b$, if and only if $d$ divides $a$ - $b$ and $b$.\n",
    "\n",
    "`Proof`  \n",
    "$\\implies$ if $a = dp$ and $b = dq$, then $a - b = d(p-q)$\n",
    "\n",
    "#### Little bit faster algorithm"
   ]
  },
  {
   "cell_type": "code",
   "execution_count": 6,
   "metadata": {},
   "outputs": [],
   "source": [
    "def gcd(a, b):\n",
    "    assert a >= 0 and b >= 0 and a + b >0\n",
    "    \n",
    "    while a > 0 and b > 0:\n",
    "        if a >= b:\n",
    "            a = a - b\n",
    "        else:\n",
    "            b = b - a\n",
    "    return max(a, b)"
   ]
  },
  {
   "cell_type": "code",
   "execution_count": 7,
   "metadata": {},
   "outputs": [
    {
     "name": "stdout",
     "output_type": "stream",
     "text": [
      "1\n",
      "0.0\n"
     ]
    }
   ],
   "source": [
    "t1 = time()\n",
    "print(gcd(790933793, 1849639572))\n",
    "print(time()-t1)"
   ]
  },
  {
   "cell_type": "markdown",
   "metadata": {},
   "source": [
    "- On some inputs, works much faster than the Naive algorithm\n",
    "- Still, there are inputs where this code is too slow: (example - gcd(790933790548, 7)\n",
    "- Reason: the code will substract 8 billions of times\n",
    "- Idea: what is left is the reminder modulo 7"
   ]
  },
  {
   "cell_type": "markdown",
   "metadata": {},
   "source": [
    "#### Euclid's algorithm"
   ]
  },
  {
   "cell_type": "code",
   "execution_count": 8,
   "metadata": {},
   "outputs": [],
   "source": [
    "def gcd(a,b):\n",
    "    assert a >= 0 and b >= 0 and a + b > 0\n",
    "    \n",
    "    while a > 0 and b > 0:\n",
    "        if a >= b:\n",
    "            a = a % b\n",
    "        else:\n",
    "            b = b % a\n",
    "        print('gcd', (a, b))\n",
    "    return max(a,b)"
   ]
  },
  {
   "cell_type": "code",
   "execution_count": 9,
   "metadata": {},
   "outputs": [
    {
     "name": "stdout",
     "output_type": "stream",
     "text": [
      "gcd (4, 6)\n",
      "gcd (4, 2)\n",
      "gcd (0, 2)\n",
      "2\n",
      "0.0\n"
     ]
    }
   ],
   "source": [
    "t1 = time()\n",
    "#print(gcd(7909337931241249293, 1849613951121))\n",
    "print(gcd(10, 6))\n",
    "print(time()-t1)"
   ]
  },
  {
   "cell_type": "markdown",
   "metadata": {},
   "source": [
    "#### Analysis\n",
    "- The numbers are getting shorter and shorter\n",
    "- A more quantitive statement: at each iteration of the while loop the larger number drops by at least a factor of 2  \n",
    "\n",
    "`Lemma`  \n",
    "Let a >= b > 0. Then (a mod b) < a/2  \n",
    "proof:  \n",
    "- if b <= a/2, then (a mod b) < b <= a/2\n",
    "- if b > a/2, then (a mod b) = a - b < a/2\n",
    "- Hence, at each iteration, either a or b is dropped by at least a factor of 2\n",
    "- Thus, the total number of iterations is at most  \n",
    "$\\log_2a + \\log_2 b$\n",
    "- If a constists of less than 5 000 decimal digits (i.e., $a < 10^{5000}$), then $\\log_2 a < 16610$\n",
    "\n",
    "#### Compact code"
   ]
  },
  {
   "cell_type": "code",
   "execution_count": 10,
   "metadata": {},
   "outputs": [
    {
     "name": "stdout",
     "output_type": "stream",
     "text": [
      "3\n"
     ]
    }
   ],
   "source": [
    "def gcd(a,b):\n",
    "    assert a >= b and b >= 0 and a + b > 0\n",
    "    return gcd(b, a % b) if b > 0 else a\n",
    "print(gcd(7909337931241249293, 1849613951121))"
   ]
  },
  {
   "cell_type": "markdown",
   "metadata": {},
   "source": [
    "### Extended Euclid's Algorithm\n",
    "- Somebody computed the greatest common divisor of a and b and wants to convince you that it is equal to d\n",
    "- You can check that d divides both a and b, but this only shows that d is a common divisor of a and b, but does not guarantees that is the greatest one\n",
    "- It turns out that it is enough to represent d as ax + by (for integers x and y)!\n",
    "\n",
    "`Lemma`  \n",
    "If $d$ divides $a$ and $b$ and $d = ax + by$ for integers $x$ and $y$, then $d = gcd(a,b)$  \n",
    "\n",
    "`Proof`\n",
    "- $d$ is a common divisor of $a$ and $b$, hence $d<=gcd(a, b)$\n",
    "- $gcd(a,b)$ divides both $a$ abd $b$, hence it also divides $d = ax + by$, and hence $gcd(a,b) <= d$\n",
    "\n",
    "#### Examples\n",
    "- $gcd(10, 6) = 2 = 10 \\times (-1) + 6 \\times 2$\n",
    "- $gcd(7, 5) = 1 = 7 \\times (-2) + 5 \\times 3$\n",
    "- $gcd(391, 299) = 23 = 391 \\times (-3) + 299 \\times 4$\n",
    "- $gcd(239, 201) = 1 = 239 \\times (-37) + 201 \\times 44$\n",
    "\n",
    "#### Extending Euclid's Algorithm\n",
    "- Recall that Euclid's algorithm uses the fact that, for $a>=b, gcd(a,b) = gcd (b, {a}\\bmod{b})$\n",
    "- Assume that $d = gcd(b, a \\bmod b)$ and that $d = bp + (a \\bmod b)q$\n",
    "- Then  \n",
    "$$ d = bp (a \\bmod b)q$$  \n",
    "$$= bp + (a - \\lfloor \\frac{a}{b} \\rfloor b)q$$\n",
    "$$= aq + b(p - \\lfloor \\frac{a}{b} \\rfloor q)$$"
   ]
  },
  {
   "cell_type": "code",
   "execution_count": 11,
   "metadata": {},
   "outputs": [
    {
     "name": "stdout",
     "output_type": "stream",
     "text": [
      "10 6\n",
      "6 4\n",
      "4 2\n",
      "2 0\n",
      "(2, -1, 2)\n"
     ]
    }
   ],
   "source": [
    "# returns gcd(a,b), x, y: gcd(a,b)=ax+by\n",
    "def extended_gcd(a, b):\n",
    "    assert a >= b and b >= 0 and a + b > 0\n",
    "    print(a,b)\n",
    "    if b == 0:\n",
    "        #print('whoops, b == 0')\n",
    "        d, x, y = a, 1, 0\n",
    "        \n",
    "    else:\n",
    "        (d, p, q) = extended_gcd(b, a % b)\n",
    "        #print('b={}, a={}, d={}, p={}, q={}'.format(b, a, d, p, q))\n",
    "        x = q\n",
    "        y = p - q * (a // b)\n",
    "    \n",
    "    assert a % d == 0 and b % d == 0\n",
    "    assert d == a * x + b * y\n",
    "    return (d, x, y)\n",
    "#print(extended_gcd(7909337931241249293, 1849613951121))\n",
    "print(extended_gcd(10,6))"
   ]
  },
  {
   "cell_type": "markdown",
   "metadata": {},
   "source": [
    "#### [Version from wiki](https://en.wikipedia.org/wiki/Extended_Euclidean_algorithm)\n",
    "\n",
    "If a and b are two nonzero polynomials,  \n",
    "then the extended Euclidean algorithm produces  \n",
    "the unique pair of polynomials $(s, t)$ such that\n",
    "\n",
    "$${\\displaystyle as+bt=\\gcd(a,b)}as+bt=\\gcd(a,b)$$"
   ]
  },
  {
   "cell_type": "code",
   "execution_count": 12,
   "metadata": {},
   "outputs": [
    {
     "name": "stdout",
     "output_type": "stream",
     "text": [
      "1 0 1\n",
      "3 1 -1\n",
      "4 -3 4\n",
      "Bézout coefficients: -3,4\n",
      "greatest common divisor: -23\n",
      "quotients by the gcd: -17,13\n"
     ]
    },
    {
     "data": {
      "text/plain": [
       "True"
      ]
     },
     "execution_count": 12,
     "metadata": {},
     "output_type": "execute_result"
    }
   ],
   "source": [
    "def wiki_gcd_extended(a, b):\n",
    "    s, old_s = 0,1\n",
    "    t, old_t = 1,0\n",
    "    r, old_r = b,a\n",
    "    \n",
    "    while r != 0:\n",
    "        quotient = old_r // r\n",
    "        old_r, r = r, (old_r - quotient * r)\n",
    "        old_s, s = s, (old_s - quotient * s)\n",
    "        old_t, t = t, (old_t - quotient * t)\n",
    "        print(quotient, old_s, old_t)\n",
    "    print(\"Bézout coefficients: {},{}\".format(old_s, old_t))\n",
    "    print(\"greatest common divisor: {}\".format(old_r))\n",
    "    print(\"quotients by the gcd: {},{}\".format(t, s))\n",
    "    return True\n",
    "\n",
    "wiki_gcd_extended(-391, -299)"
   ]
  },
  {
   "cell_type": "markdown",
   "metadata": {},
   "source": [
    "### Tile a Rectangle with Squares. Quiz. \n",
    "\n",
    "Given an $n \\times m$ grid (where n,m are integers), you would like to tile it with the minimal number of same size squares. Clearly, it can always be tiled with $nm$ squares of size $1 \\times 1$, but it is not always optimal. For example, a $6 \\times 10$ grid can be tiled by 15 squares of size $2 \\times 2$:\n",
    "![Rectangle](https://raw.githubusercontent.com/sersavn/Coursera-Introduction-to-Discrete-Mathematics-for-Computer-Science-Specialization/master/C4_Number_Theory_and_Cryptohraphy/Tile_a_Rectangle_with_Squares_grid.png)\n",
    "\n",
    "Your goal in this problem is to implement a function squares(n, m) that returns the minimum number of same size squares required to tile a grid of size $n \\times m$. Your code should work fast (in less than a second) even for $n, m$ up to 1 000 000 000."
   ]
  },
  {
   "cell_type": "code",
   "execution_count": 13,
   "metadata": {},
   "outputs": [],
   "source": [
    "def squares(n, m):\n",
    "    ini_n = n\n",
    "    ini_m = m\n",
    "    while n > 0 and m > 0:\n",
    "        if n >= m :\n",
    "            n = n % m\n",
    "        else:\n",
    "            m = m % n\n",
    "    gcd = max(n, m)\n",
    "    min_num_of_squares = ini_n/gcd * ini_m/gcd\n",
    "    return int(min_num_of_squares)"
   ]
  },
  {
   "cell_type": "markdown",
   "metadata": {},
   "source": [
    "## Applications\n",
    "\n",
    "### Leas Common Multiple\n",
    "\n",
    "`Definition`  \n",
    "Least common multiple, $lcm(a, b)$ of integers $a$ and $b$ (both different from zero) is the smallest positive integer that is divisible by both $a$ and $b$  \n",
    "\n",
    "`Examples`    \n",
    "$lcm(24, 16) = 48,$   \n",
    "$lcm(9,17) = 15$,  \n",
    "$lcm(239, 0) - undefined$\n",
    "\n",
    "`Convention`  \n",
    "We assume that $a$ and $b$ are positive\n",
    "\n",
    "#### Working with Fractions\n",
    "\n",
    "When adding or comparing simple fractions, we usually compute the lowest common denominator which is the least common multiple of the denominators:  \n",
    "$$\\frac{31}{177} + \\frac{29}{118}$$\n",
    "$$lcm(177, 118) = 354 = 2 \\times 177 = 3 \\times 118$$\n",
    "$$\\frac{31}{177} + \\frac{29}{118} = \\frac{31\\cdot2}{177\\cdot2} + \\frac{29\\cdot3}{118\\cdot3}$$\n",
    "\n",
    "#### Naive Algorithm\n",
    "Clearly, $a \\cdot b$ is divisible by $a$ and $b$. To find the least common multiple, simply try all numbers up to $a \\cdot b$ and select the smallest one"
   ]
  },
  {
   "cell_type": "code",
   "execution_count": 14,
   "metadata": {},
   "outputs": [
    {
     "name": "stdout",
     "output_type": "stream",
     "text": [
      "51754256\n"
     ]
    }
   ],
   "source": [
    "def lcm(a, b):\n",
    "    assert a > 0 and b > 0\n",
    "    \n",
    "    for d in range(1, a * b + 1):\n",
    "        if d % a == 0 and d % b == 0:\n",
    "            return d\n",
    "print(lcm(20432, 2533))"
   ]
  },
  {
   "cell_type": "markdown",
   "metadata": {},
   "source": [
    "#### Euclid's algorithm\n",
    "$$lcm(a, b) \\times gcd(a,b) = a \\times b$$\n",
    "\n",
    "#### lcm and gcd\n",
    "`Lemma`  \n",
    "If $a,b > 0$, then $lcm(a, b) = ab/gcd(a,b)$  \n",
    "\n",
    "`Proof`\n",
    "- Let $d = gcd(a, b), a = df, b = dq$\n",
    "- Then $m = ab/d = pb = qa$ is a multiple of $a$ and $b$\n",
    "- If there was a smaller multiple $\\bar{m}$ < $m$,\n",
    "then $\\bar{d} = ab/\\bar{m} > d$ would be a common divisor: $a/\\bar{d} = \\bar{m}/b, b/\\bar{d} = \\bar{m}/a$"
   ]
  },
  {
   "cell_type": "markdown",
   "metadata": {},
   "source": [
    "### Least Common Multiple. Quiz\n",
    "1. What is the least common multiple of 2 and 3?  \n",
    "A: $2 \\cdot 3/1$\n",
    "2. What is the least common multiple of 10 and 15?  \n",
    "A: $10 \\cdot 15/5$\n",
    "3. What is the least common multiple of 35 and 70?  \n",
    "A: $35 \\cdot 70/35$"
   ]
  },
  {
   "cell_type": "markdown",
   "metadata": {},
   "source": [
    "### Least Common Multiple. Code"
   ]
  },
  {
   "cell_type": "code",
   "execution_count": 15,
   "metadata": {},
   "outputs": [
    {
     "data": {
      "text/plain": [
       "70.0"
      ]
     },
     "execution_count": 15,
     "metadata": {},
     "output_type": "execute_result"
    }
   ],
   "source": [
    "def lcm(a, b):\n",
    "    assert a > 0 and b > 0\n",
    "  \n",
    "    multiplication = a * b\n",
    "    while a > 0 and b > 0:\n",
    "        if a >= b:\n",
    "            a = a % b\n",
    "        else:\n",
    "            b = b % a\n",
    "    return multiplication/max(a,b)\n",
    "\n",
    "lcm(35, 70)"
   ]
  },
  {
   "cell_type": "code",
   "execution_count": 16,
   "metadata": {},
   "outputs": [
    {
     "name": "stdout",
     "output_type": "stream",
     "text": [
      "1980 1848\n",
      "1848 132\n",
      "132 0\n",
      "(132, 1, -1)\n"
     ]
    }
   ],
   "source": [
    "print(extended_gcd(1980,1848))"
   ]
  },
  {
   "cell_type": "markdown",
   "metadata": {},
   "source": [
    "### Diophantine Equations: Examples\n",
    "A diophantine equation is an equation where only integer solutions are allowed\n",
    "- 1 apple costs 22 pesos\n",
    "- you only have 3-peso bills\n",
    "- the cashier only has 5-peso bills\n",
    "- 3x = 22 + 5y, x, y are non-negative integers\n",
    "- Solutions:\n",
    "    - x = 9, y = 1\n",
    "    - x = 14, y = 4\n",
    "    \n",
    "Another example:\n",
    "- x lamps, each 4936₽\n",
    "- 100 <= y < 1000\n",
    "- Total: 1000y + 728₽\n",
    "- x, y are non-negative integers\n",
    "\n",
    "Another example:\n",
    "- 187x + 55y = 121, \n",
    "- x and y are integers\n",
    "- solutions:\n",
    "    - $187 \\times 3 + 55 \\times (-8) = 121$\n",
    "    - $187 \\times (-2) + 55 \\times 9 = 121$\n",
    "    - infenitely many solutions!\n",
    "    \n",
    "Another example:\n",
    "- 187x + 55y = 45\n",
    "- x and y are integers\n",
    "- no solutions at all!\n",
    "\n",
    "### Practice Quiz. Diophantine Equations\n",
    "\n",
    "### Diophantine Equations. Theorem\n",
    "\n",
    "`Theorem`  \n",
    "Given integers a, b, c (at least one of a and b != 0),  \n",
    "the Diophantine equation\n",
    "$$ax + by = c$$\n",
    "Has a solution (where x and y are integers) if and only if:\n",
    "$$gcd(a,b)|c$$\n",
    "\n",
    "`Proof`\n",
    "Let $d = gcd(a, b)$  \n",
    "$\\implies a = dp$ and $b = dq, \\text{thus},$  \n",
    "$c = ax + by = d(px + qy)$  \n",
    "$\\Longleftarrow$ Extended Euclid's algorithm:  \n",
    "$a\\bar{x} + b\\bar{y} = d$  \n",
    "$if c = td, \\text{then } x = t \\cdot \\bar{x},y = t \\cdot \\bar{y}$:  \n",
    "$ax + by = t(a\\bar{x} + b\\bar{y}) = td = c$\n",
    "\n",
    "#### Finding a solution\n",
    "- 10x + 6y = 14:\n",
    "    - Extended Euclid's algorithm:\n",
    "    $gcd(10, 6) = 2 = 10 \\cdot (-1) + 6 \\cdot 2 $\n",
    "    - $14 = 10 \\cdot (-1) \\cdot 7 + 6 \\cdot 2 \\cdot 7$\n",
    "    - x = -7, y = 14\n",
    "- 391x + 299x = -69\n",
    "    - Extended Euclid's Algorithm:\n",
    "    $gcd(391, 299) = 23 = 391 \\cdot (-3) + 299 \\cdot 4$\n",
    "    - $69 = 391 \\cdot (-3) \\cdot (-3) + 299 \\cdot 4 \\cdot (-3)$\n",
    "    - x = 9, y = 12\n",
    "    - But x = -4, y = 5 is also a solution. How do we find **all** solutions?\n",
    "    \n",
    "#### Euclid's Lemma\n",
    "`Euclid's Lemma`  \n",
    "$\\text{ If } n|ab \\text{ and } gcd(a, n) = 1, \\text{ then } n|b.$  \n",
    "\n",
    "`Proof`  \n",
    "- From Extended Euclid's algorithm (a, n):\n",
    "- ax + ny = 1\n",
    "- axb + nyb = b\n",
    "- From ab = kn,  \n",
    "b = axb + nyb = n(xk + yb)\n",
    "\n",
    "#### Finding all solutions  \n",
    "`Theorem`  \n",
    "Let gcd(a,b) = d, a = dp, b = dq.  \n",
    "If $(x_0, y_0)$ is a solution of the Diophantine equation $ax + by = c$  \n",
    "$$ax_0 + by_0 = c$$\n",
    "then all the solutions have the form\n",
    "$$a(x_0 + tq) + b(y_0 - tp) = c, $$\n",
    "where $t$ is an arbitrary integer.  \n",
    "\n",
    "`Proof`\n",
    "- $a = dp, b = dq, ax_0 + by_0 = c$\n",
    "- For any integer $t$,\n",
    "$$a(x_0 + tq) + b(y_0 - tp)$$\n",
    "$$= ax_0 + by_0 + t(aq - bp)$$\n",
    "$$= c + t(dfq - dpq) = c$$\n",
    "- Consider 2 solutions: $(x_1, y_1)\\text{ and }(x_2, y_2)$\n",
    "- $a(x_1 - x_2) + b(y_1 - y_2) = c - c = 0$\n",
    "- $p(x_1 - x_2) + q(y_1 - y_2) = 0$  \n",
    "- $ gcd(p, q) = 1$\n",
    "- By Euclid's lemma: $x_1 - x_2 = tq$\n",
    "- Then $y_1 - y_2 = -tp$"
   ]
  },
  {
   "cell_type": "markdown",
   "metadata": {},
   "source": [
    "#### Example\n",
    "- 3x + 5y = 22\n",
    "- $x_0 = 9, y_0 = -1$\n",
    "- $a = 3, b = 5, d = 1$\n",
    "- $a = dp, b = dq, p = 3, q = 5$\n",
    "\n",
    "\n",
    "- All solutions:\n",
    "$$x = x_0 + tq = 9 + 5t$$\n",
    "$$y = y_0 - tp = -1 - 3t$$\n",
    "\n",
    "\n",
    "- If we want x >= 0 and y <= 0, then take:\n",
    "$$ x =  9 + 5t >= 0$$\n",
    "$$ y = -1 -3t <= 0$$\n",
    "\n",
    "- That is, t >= 1/3 or t >= 0"
   ]
  },
  {
   "cell_type": "markdown",
   "metadata": {},
   "source": [
    "### Diophantine Equations: Code\n",
    "\n",
    "Try to use extended Euclid's algorithm to solve Diophantine equations efficiently.\n",
    "\n",
    "Given three numbers $a>0, b>0, \\text{ and } c$, the algorithm should return some $x$ and $y$ such that\n",
    "\n",
    "$ax+by=c$"
   ]
  },
  {
   "cell_type": "code",
   "execution_count": 17,
   "metadata": {},
   "outputs": [
    {
     "data": {
      "text/plain": [
       "(-7, 14)"
      ]
     },
     "execution_count": 17,
     "metadata": {},
     "output_type": "execute_result"
    }
   ],
   "source": [
    "def wiki_gcd_extended(a, b):\n",
    "    s, old_s = 0,1\n",
    "    t, old_t = 1,0\n",
    "    r, old_r = b,a\n",
    "    \n",
    "    while r != 0:\n",
    "        quotient = old_r // r\n",
    "        old_r, r = r, (old_r - quotient * r)\n",
    "        old_s, s = s, (old_s - quotient * s)\n",
    "        old_t, t = t, (old_t - quotient * t)\n",
    "        \n",
    "    return(old_r, old_s, old_t)\n",
    "\n",
    "def diophantine(a, b, c):\n",
    "    gcd_extended = wiki_gcd_extended(a, b)\n",
    "    gcd = gcd_extended[0]\n",
    "    b1 = gcd_extended[1]\n",
    "    b2 = gcd_extended[2]\n",
    "    \n",
    "    # return (x, y) such that a * x + b * y = c\n",
    "    return (b1*c//gcd, b2*c//gcd)\n",
    "\n",
    "diophantine(10, 6, 14)\n"
   ]
  },
  {
   "cell_type": "code",
   "execution_count": 18,
   "metadata": {},
   "outputs": [
    {
     "data": {
      "text/plain": [
       "2"
      ]
     },
     "execution_count": 18,
     "metadata": {},
     "output_type": "execute_result"
    }
   ],
   "source": [
    "2 % 9"
   ]
  },
  {
   "cell_type": "code",
   "execution_count": 19,
   "metadata": {},
   "outputs": [
    {
     "data": {
      "text/plain": [
       "(1, -4)"
      ]
     },
     "execution_count": 19,
     "metadata": {},
     "output_type": "execute_result"
    }
   ],
   "source": [
    "diophantine(9, 2, 1)"
   ]
  },
  {
   "cell_type": "code",
   "execution_count": 20,
   "metadata": {},
   "outputs": [
    {
     "data": {
      "text/plain": [
       "(1, -4, 1)"
      ]
     },
     "execution_count": 20,
     "metadata": {},
     "output_type": "execute_result"
    }
   ],
   "source": [
    "wiki_gcd_extended(2, 9)"
   ]
  },
  {
   "cell_type": "markdown",
   "metadata": {},
   "source": [
    "### Modular Division\n",
    "\n",
    "While looking at division mod 7 table:\n",
    "- Given $a,b; a\\neq$ $b$, there exists $x$ such that $a \\cdot x \\equiv b$ (mod 7)\n",
    "- $x$ plays the role of modular division $x = b/a$ (mod 7)\n",
    "\n",
    "Consider division mod 6 table:\n",
    "- $ 2/5 \\equiv 4$ (mod 6);  \n",
    "indeed, $4 \\cdot 5 \\equiv 2$ (mod 6)\n",
    "- But there is no x such that $3 \\cdot x \\equiv 1$ (mod 6)\n",
    "- We can't divide 1 by 3 modulo 6!\n",
    "\n",
    "#### Multiplicative Inverse\n",
    "- A multiplicative inverse of $a \\pmod{n} \\text{ is } \\bar{a}$ s.t.\n",
    "$$ a \\times \\bar{a} \\equiv 1 \\pmod{n}$$\n",
    "- If $a$ has a multiplicative inverse $\\bar{a}$, then one can divide by a:\n",
    "$$b/a \\equiv b \\times \\bar{a}\\pmod{n}$$\n",
    "- Indeed, for every b,\n",
    "$$b/a \\times a \\equiv b \\times \\bar{a} \\times a \\equiv b \\pmod{n}$$\n",
    "$$(a \\times \\bar{a} == 1)$$\n",
    "\n",
    "#### Uniqueness of Inverses  \n",
    "`Lemma`  \n",
    "If $a$ has a multiplicative inverse, then it is unique  \n",
    "\n",
    "`Proof`  \n",
    "If x and y are multiplicative inverses of a, then  \n",
    "$$ x = x \\times (a \\times y) = (x \\times a) \\times y = y$$\n",
    "\n",
    "#### Existence of Inverses\n",
    "`Theorem`  \n",
    "$a$ has a multiplicative inverse modulo $n$ if and only if $gcd(a,n) = 1$ \n",
    "\n",
    "`Proof`\n",
    "- $ax \\equiv 1 \\pmod{n} \\iff ax + kn = 1$ ($\\iff \\text{symbol means iff}$)\n",
    "- For fixed $a$ and $n$, this Diophantine equation has a solution $(x) \\iff \\text{gcd }(a,n) | 1 $\n",
    "- If $\\text{gcd(a,n)} = 1$ then one can divide by $a$ modulo $n$\n",
    "- Given $a,b,n$ we want to find $x \\equiv b/a \\pmod{n}$:\n",
    "    - First, we use Extended Euclid's algorithm to find $s$ and $t: nt + as = 1$\n",
    "    - s is the multiplicative inverse of a modulo n\n",
    "    - Now $x\\equiv b/a \\equiv b \\times s \\pmod{n}$\n",
    "    \n",
    "#### Example \n",
    "- Let's assume that we would like to divide 7 by 2 (mod 9):\n",
    "$$7/2\\pmod{9}$$\n",
    "- We can do this just bcs $gcd(9,2) = 1$\n",
    "- (can also be rewritten as $gcd(2,9) = 1$)\n",
    "\n",
    "- Extended Euclid's algorithm gives us:\n",
    "$$9 \\times 1 + 2 \\times (-4) = 1$$\n",
    "- $-4 \\equiv 5 \\pmod{9} \\text{ is the multiplicative inverse of 2 mod 9}$\n",
    "- $7/2 \\equiv 7 \\times 5 \\equiv 8 \\pmod{9}$\n",
    "- (same as $7/2\\pmod{9}\\equiv 7 \\times 5 \\pmod{9} \\equiv 8 \\pmod{9}$)\n",
    "- Indeed, $8 \\times 2 \\equiv 7 \\pmod{9}$"
   ]
  },
  {
   "cell_type": "code",
   "execution_count": 21,
   "metadata": {},
   "outputs": [
    {
     "data": {
      "text/plain": [
       "1"
      ]
     },
     "execution_count": 21,
     "metadata": {},
     "output_type": "execute_result"
    }
   ],
   "source": [
    "1 % 9"
   ]
  },
  {
   "cell_type": "code",
   "execution_count": 22,
   "metadata": {},
   "outputs": [
    {
     "data": {
      "text/plain": [
       "(1, -4, 1)"
      ]
     },
     "execution_count": 22,
     "metadata": {},
     "output_type": "execute_result"
    }
   ],
   "source": [
    "wiki_gcd_extended(2, 9)"
   ]
  },
  {
   "cell_type": "markdown",
   "metadata": {},
   "source": [
    "### Modular Division: Code\n",
    "\n",
    "Now that you know how to use extended Euclid's algorithm for finding modular inverses, implement an efficient algorithm for dividing $b$ by $a$ modulo n.\n",
    "\n",
    "Given three integers $a, b$, and $n$, such that $gcd(a,n)=1$ and $n > 1$, the algorithm should return an integer x such that\n",
    "\n",
    "$0 \\leq x \\leq n-1$, and\n",
    "\n",
    "$b/a=x\\pmod{n}$ (that is, $b=ax\\pmod{n}).$"
   ]
  },
  {
   "cell_type": "code",
   "execution_count": 23,
   "metadata": {},
   "outputs": [],
   "source": [
    "def wiki_gcd_extended(a, b):\n",
    "    s, old_s = 0,1\n",
    "    t, old_t = 1,0\n",
    "    r, old_r = b,a\n",
    "    \n",
    "    while r != 0:\n",
    "        quotient = old_r // r\n",
    "        old_r, r = r, (old_r - quotient * r)\n",
    "        old_s, s = s, (old_s - quotient * s)\n",
    "        old_t, t = t, (old_t - quotient * t)\n",
    "        \n",
    "    return(old_r, old_s, old_t)\n",
    "\n",
    "def divide(a, b, n):\n",
    "    assert n > 1 and a > 0 and wiki_gcd_extended(a, n)[0] == 1\n",
    "    \n",
    "    gcd_extended = wiki_gcd_extended(a, n)\n",
    "    gcd = gcd_extended[0]\n",
    "    a_bezout = gcd_extended[1]\n",
    "    n_bezout = gcd_extended[2]\n",
    "    \n",
    "    print('{} * {} + {} * {} = {}'.format(a, a_bezout, n, n_bezout, gcd))\n",
    "\n",
    "    # return the number x s.t. x = b / a (mod n) and 0 <= x <= n-1.\n",
    "    return a_bezout * b % n"
   ]
  },
  {
   "cell_type": "code",
   "execution_count": 24,
   "metadata": {},
   "outputs": [
    {
     "name": "stdout",
     "output_type": "stream",
     "text": [
      "2 * -4 + 9 * 1 = 1\n"
     ]
    },
    {
     "data": {
      "text/plain": [
       "8"
      ]
     },
     "execution_count": 24,
     "metadata": {},
     "output_type": "execute_result"
    }
   ],
   "source": [
    "divide(2, 7, 9)"
   ]
  },
  {
   "cell_type": "markdown",
   "metadata": {},
   "source": [
    "# W3. Euclids Algorithm\n",
    "\n",
    "## 3.1 Integer Factorization\n",
    "\n",
    "### Introduction\n",
    "\n",
    "- Private comminications via phone, email, messengers\n",
    "- Secure money transfer, online shopping\n",
    "- Secure authorization for online services\n",
    "- Secure software installation\n",
    "- Digital signature\n",
    "\n",
    "#### Eavesdropping\n",
    "\n",
    "- Solution - encryption with secret key which is known for both parties\n",
    "\n",
    "#### Changing the code\n",
    "- Example is imitation game movie, where nazis changed their code once a day during the war\n",
    "- At the end Alan Turing managed to improve computer to get the code\n",
    "\n",
    "#### Sharing the Secret Code\n",
    "- How to share the secret code itself?\n",
    "- Eavesdropper can get it\n",
    "- What if you are communicating from different continents?\n",
    "- And you need a new code for each communication\n",
    "\n",
    "#### Public key cryptography as a solution\n",
    "Idea:\n",
    "- Every party generates 2 keys: public key and private key\n",
    "\n",
    "#### Cryptography\n",
    "- Sharing secrets in such a way that noone can eavesdrop or change your messages\n",
    "- Authorization and making sure a person cannot deny having sent the message\n",
    "- Billions of money transaction use encryption everyday\n",
    "- RSA encryption - arguably the most used program in the world\n",
    "- This module - tools for cryptography\n",
    "- Next module - keys and secure ciphers, how to break them if used incorrectly"
   ]
  },
  {
   "cell_type": "markdown",
   "metadata": {},
   "source": [
    "### Prime Numbers\n",
    "\n",
    "#### Arranging apples\n",
    "\n",
    "It is possible to arrange 12 apples in a rectangle with several rows and columns, is it possible for 13 apples?\n",
    "- No, cause if it would be then $a$ rows and $b$ cols would form $ab$ rectangle, where $a,b > 1$ \n",
    "\n",
    "#### Problem\n",
    "For which integers n > 1 is it possible to arrange n apples into several rows, such that there are several apples in each row, and the number of apples in each row is the same?\n",
    "\n",
    "#### Special cases\n",
    "- 0 any number divides zero, bcs $0 \\cdot a = 0$, infinite number of devisors. However, neither prime nor composite\n",
    "- 1 it has no divisors other than 1 and itself"
   ]
  },
  {
   "cell_type": "markdown",
   "metadata": {},
   "source": [
    "### Integers as Product of Primes\n",
    "\n",
    "#### Composite numbers\n",
    "`Definition`  \n",
    "A composite number can be represented as a product of two smaller integers.\n",
    "$$1001 = 7 \\cdot 143$$\n",
    "\n",
    "#### Continuing Factorization\n",
    "If one of the factors is not prime, we can represent it as a product of two even sameller integers:\n",
    "$1001 = 7 \\cdot 143 = 7 \\cdot 11 \\cdot 13$\n",
    "\n",
    "The process of representing an integer as product of smaller and smaller integers is called `integer factorization`\n",
    "\n",
    "#### Another factorization\n",
    "\n",
    "We could start with another representation of 1001 as a product of 2 smaller integers: $1001 = 11 \\cdot 91 = 11 \\cdot 7 \\cdot 13$\n",
    "\n",
    "Each way of factorization can be represented as a tree\n",
    "\n",
    "Integers in the leaves give a representation of 1001 as a product of primes. Notics that the two final representations differ only by the order of these primes."
   ]
  },
  {
   "cell_type": "markdown",
   "metadata": {},
   "source": [
    "### Existence of Representation\n",
    "`Theorem`  \n",
    "Every integer n > 1 can be represented as a product of one or more prime numbers.  \n",
    "Proof:\n",
    "- If $n$ is prime we are good\n",
    "- Otherwise, $n = ab, 1 < a,b < n$\n",
    "- If $a$ and $b$ are prime, we are good\n",
    "- If $a$ is composite, factor it:  \n",
    "$a = a_{1}a_{2}, 1 < a_1, a_2 < n$\n",
    "- Continue factorization of factors while possible\n",
    "- It must stop, as factor get smaller\n",
    "- Stops when all factors are prime"
   ]
  },
  {
   "cell_type": "markdown",
   "metadata": {},
   "source": [
    "### Euclid's Lemma\n",
    "\n",
    "#### Is the Representation unique?\n",
    "\n",
    "Consider this example:  \n",
    "$78227 \\cdot 244999 = 19165536773 = 99599 \\cdot 192427$\n",
    "\n",
    "Does it prove that there can be two different representations of the same integer as a product of primes? No, because:\n",
    "$137 \\cdot 571 \\cdot 337 \\cdot 727 = 19165536773 = 137 \\cdot 727 \\cdot 337 \\cdot 571$\n",
    "\n",
    "Recall the following:  \n",
    "`Lemma`  \n",
    "If $p$ is a prime number, and $p$ divides $ab$, then $p$ divides either $a$ or $b$.  \n",
    "\n",
    "`Proof`\n",
    "- Suppose $p \\nmid a$ (does not divide)\n",
    "- GCD(a, p) | p, so either GCD(a, p) = 1 or GCD(a, p) = p\n",
    "- As far as $p \\nmid a$ GCD(a, p) = 1\n",
    "- Then multiplication by $a$ is invertible: $xa \\equiv 1\\mod p$ for some $x$\n",
    "- $p | ab \\Rightarrow ab \\equiv 0 \\Rightarrow xab \\equiv 0 \\Rightarrow b \\equiv 0 $ mod $p$\n",
    "- xa = 1\n",
    "- $b \\equiv 0$ mod $p$, so $p | b$\n",
    "\n",
    "`Corollary`\n",
    "If a prime $p$ divides product of several integers, then $p$ divides at least one of these integers.\n",
    "Indeed, $p$ divides $a_1 \\cdot a_2 ... \\cdot a_k = a_1 \\cdot (a_2 ... \\cdot a_k)$, so either $p$ divides $a_1$ or $p$ divides $a_2 \\cdot a_3 ... \\cdot a_k = a_2 \\cdot (a_3 ... \\cdot a_k)$, in the latter case $p$ divides either $a_2$ or $a_3 ... \\cdot a_k = a_3 \\cdot (a_4 ... \\cdot a_k)$, and so on.\n",
    "\n",
    "Example:\n",
    "Sum of the digits of the number 5816907 is 5 + 8 + 1 + 6 + 9 + 0 + 7 = 36, and 3 divides 36, so by the criterion of divisibility by 3 we know that 3 divides $5816907 = 17 \\cdot 19 \\cdot 23 \\cdot 27 \\cdot 29$ Which of the numbers 17, 19, 23, 27, 29 is divisible by 3 then?\n"
   ]
  },
  {
   "cell_type": "markdown",
   "metadata": {},
   "source": [
    "### Unique factorization\n",
    "`Theorem`  \n",
    "Every integer $n > 1$ can be represented as a product of one or more prime numbers. Any two such representations of the same integer n can differ only by the order of factors:\n",
    "- First part - the existence of representation is already proved\n",
    "- Now, lets prove the uniqueness of the representation\n",
    "\n",
    "#### Reduce Both parts\n",
    "$$ n = p_1 p_2 ... p_{k-1} p_k = q_1 q_2 ... q_{l-1}q_l$$\n",
    "If there are common factors, cancel them until there are no common factors.\n",
    "\n",
    "#### Nothing to Reduce\n",
    "- Imagine two different representations without common factors\n",
    "- $p_1 p_2 ... p_{k-1} p_k = q_1 q_2...q_{l-1}q_l$\n",
    "- $p_1$ divides $q_1 ... q_l$, so $p_1$ divides one of $q_1, q_2, ..., q_l$\n",
    "- $p_1$ divides $q_i, q_i$ is prime, so $p_1 = q_i$ - contradiction\n",
    "\n",
    "#### Canonical Factorization\n",
    "For any representation of $n$ as a product of primes, we can sort the factors in ascending order and group all the equal primes together. Then we will get the canonical representation:\n",
    "$$ n = p_{1}^{a_1} \\cdot p_{2}^{a_2} ... \\cdot p_{k}^{a_k}$$,\n",
    "where $p_1 < p_2 < ... < p_k$ are primes, and $a_1, a_2, ..., a_k$ are positive integers. It follows from the unique factorization theorem that the canonical representation of any $n > 1$ is unique.\n",
    "\n",
    "#### Other Representations\n",
    "For any set of primes $p_1, p_2, ..., p_m$ such that all prime divisors of $n$ are in this set, we can represent \n",
    "$$ n = p_{1}^{a_1} \\cdot p_2^{a_2} ... p_{m}^{a_m}$$\n",
    "\n",
    "However, in this case some $\\alpha_i$ can be 0.\n",
    "Example: $20 = 2^2 \\cdot 3^0 \\cdot 5^1 \\cdot 7^0$ \n",
    "\n",
    "In particular, we can take the set of all prime numbers, enumerate in starting from $p_1 = 2, p_2 = 3$ and represent $n$ as sequence ($\\alpha_1, \\alpha_2, \\alpha_3, ...)$, where $\\alpha_i = 0$ if $p_i \\nmid n$, otherwise $\\alpha_i$ is the degree from the canonical factorization of n corresponding to $p_i$. In this representation, all integers have the same set of prime factors, although some of them in degree 0.\n",
    "\n",
    "$$m \\iff (\\alpha_1, \\alpha_2, ...)$$\n",
    "$$n \\iff (\\beta_1, \\beta_2, ...)$$\n",
    "$$mn \\iff (\\beta_1, \\beta_2, ...)$$\n",
    "\n",
    "However, there is no simple way to sum two numbers in this representation.\n",
    "\n",
    "#### Conclusion\n",
    "- Any integer can be represented as a product of primes\n",
    "- Any two representations differ only by the order of factors\n",
    "- Canonical representation $n = p_1^{\\alpha_1} p_2^{\\alpha_2} ... p_k^{\\alpha_k}$  is unique\n",
    "- Also can represent $n$ as sequence of degrees for all prime numbers ($\\alpha_1, \\alpha_2, ...$), where all $a_i > 0$ and $a_i = 0$ if $p_i \\nmid n$"
   ]
  },
  {
   "cell_type": "markdown",
   "metadata": {},
   "source": [
    "### Implications of unique factorization\n",
    "#### Divisibility Criterion\n",
    "When does $m$ divide $n$?  \n",
    "Consider canonical representations:\n",
    "$$m = p_1^{\\alpha_1} p_2^{\\alpha_2} ... p_k^{\\alpha_k}$$\n",
    "$$n = q_1^{\\beta_1} q_2^{\\beta_2} ... q_k^{\\beta_k}$$\n",
    "$m | n$ when:\n",
    "- All $p_i$ are among $q_1, q_2, ... , q_l$\n",
    "- If $p_i = q_j, \\alpha_i \\leq \\beta_j$\n",
    "\n",
    "#### When Numbers are Coprime?\n",
    "Integers $m$ and $n$ are called coprime if $GCD(m,n) = 1.$  \n",
    "Consider canonical representations:\n",
    "$$m = p_1^{\\alpha_1} p_2^{\\alpha_2} ... p_k^{\\alpha_k}$$\n",
    "$$n = q_1^{\\beta_1} q_2^{\\beta_2} ... q_l^{\\alpha_l}$$\n",
    "$GCD(m,n) = 1$ when there are no common prime factors between $p_1, p_2, ... p_k$ and $q_1, q_2, ..., q_l$\n",
    "\n",
    "#### Computing GCD\n",
    "Let $p_1, p_2, ... , p_k$ be all prime divisors of $m$ and $n$  \n",
    "Then\n",
    "$$m = p_1^{\\alpha_1} p_2^{\\alpha_2} ... p_k^{\\alpha_k}$$\n",
    "$$n = p_1^{\\beta_1} p_2^{\\beta_2} ... p_l^{\\alpha_k}$$\n",
    "$$GCD(m, n) = p_1^{min(\\alpha_1, \\beta_1)} p_2^{min(\\alpha_2, \\beta_2)} ... p_k^{min(\\alpha_k, \\beta_k)}$$\n",
    "Note that some $\\alpha_i$ and $\\beta_j$ can be zero in this case.\n",
    "\n",
    "Note that computing GCD is much easier than prime factorization. The former can be done with Euclid's algorithm, and no efficient algorithm is known for the latter.\n",
    "\n",
    "#### Least Common Multiple\n",
    "`LCM`  \n",
    "The least common multiple LCM(a,b) of two integers $a$ and $b$ is the smallest positive integer $x$ such that both $a | x$ and $b | x$.\n",
    "\n",
    "LCM(4,6) = 12\n",
    "\n",
    "#### Computing LCM\n",
    "Let $p_1, p_2, ... , p_k$ be all prime divisors of $m$ and $n$  \n",
    "Then \n",
    "$$m = p_1^{\\alpha_1} p_2^{\\alpha_2} ... p_k^{\\alpha_k}$$\n",
    "$$n = p_1^{\\beta_1} p_2^{\\beta_2} ... p_l^{\\beta_k}$$\n",
    "$$LCM(m, n) = p_1^{max(\\alpha_1, \\beta_1)} p_2^{max(\\alpha_2, \\beta_2)} ... p_k^{max(\\alpha_k, \\beta_k)}$$\n",
    "\n",
    "#### Min and Max\n",
    "\n",
    "Note that for any $\\alpha$ and $\\beta$:\n",
    "$$min(\\alpha, \\beta) + max(\\alpha, \\beta) = \\alpha + \\beta$$\n",
    "$$p_1^{min(\\alpha_1, \\beta_1)} p_1^{max(\\alpha_1, \\beta_1)} = p_1^{min(\\alpha_1, \\beta_1) + max(\\alpha_1, \\beta_1)} = p_1^{\\alpha_1 + \\beta_1}$$\n",
    "\n",
    "Now, m and n will look as following:\n",
    "$$m = p_1^{\\alpha_1} p_2^{\\alpha_2} ... p_k^{\\alpha_k}$$\n",
    "$$n = p_1^{\\beta_1} p_2^{\\beta_2} ... p_k^{\\beta_k}$$\n",
    "$$GCD(m, n) = p_1^{min(\\alpha_1, \\beta_1)} p_2^{min(\\alpha_2, \\beta_2)} ... p_k^{min(\\alpha_k, \\beta_k)}$$\n",
    "$$LCM(m, n) = p_1^{max(\\alpha_1, \\beta_1)} p_2^{max(\\alpha_2, \\beta_2)} ... p_k^{max(\\alpha_k, \\beta_k)}$$\n",
    "\n",
    "$$mn = p_1^{\\alpha_1 + \\beta_1} p_2^{\\alpha_2 + \\beta_2} ... p_k^{\\alpha_k + \\beta_k}$$\n",
    "$$GCD(m,n)LCM(m,n) = mn$$\n",
    "\n",
    "#### Computing LCM\n",
    "We can compute GCD(m,n) using Euclid's algorithm, and $LCM(m,n) = \\frac{mn}{GCD(m,n)}$, so LCM can also be computed quickly.\n",
    "\n",
    "`Lemma`\n",
    "if $a | n, b|n,$ and $GCD(a,b) = 1$, then $ab | n$  \n",
    "`Proof`\n",
    "- All prime factors of a are among prime factors of n\n",
    "- Degrees of these factors in n are bigger or the same\n",
    "- Same goes for b\n",
    "- $GCD(a, b) = 1$, so $a$ and $b$ don't share prime factors\n",
    "- Thus all prime factors of $ab$ are in $n$ with bigger or same degrees\n",
    "\n",
    "#### Conclusion\n",
    "- Easy criterion for divisibility given prime factorization\n",
    "- Coprime numbers don't share prime factors\n",
    "- GCD and LCM can be computed using prime factorizations\n",
    "- However, prime factorization is hard, and Euclid's algorithm is facst\n",
    "- GCD(m,n) LCM(m,m) = mn, so LCM can also be computed using Euclid's algorithm\n",
    "- If two coprime numbers divide $n$, their product also divides $n$"
   ]
  },
  {
   "cell_type": "code",
   "execution_count": 25,
   "metadata": {},
   "outputs": [],
   "source": [
    "def ifprime(num):\n",
    "    for i in range(2, int(101**0.5)+2):\n",
    "        if num%i == 0:\n",
    "            print(i)\n",
    "            return True\n",
    "            \n",
    "    return False\n",
    "\n",
    "ifprime(737)"
   ]
  },
  {
   "cell_type": "markdown",
   "metadata": {},
   "source": [
    "### Integer Factorization Quiz\n",
    "1. Is number 101 prime? yes\n",
    "2. Is number 737 prime? no\n",
    "3. Does $105 = 3 \\cdot 5 \\cdot 7$ divide 1260 = $2^2 \\cdot 3^2 \\cdot 5 \\cdot 7$ yes\n",
    "4. Which of the numbers $6 = 2 \\cdot 3, 10 = 2 \\cdot 5, 15 = 3 \\cdot 5$ and $35 = 5 \\cdot 7$ are coprime?  \n",
    "A: 6 and 35\n",
    "5. Compute $GCD(1980, 1848)$ given that $1980 = 2^2 \\cdot 3^2 \\cdot 5 \\cdot 11$ and $1848 = 2^3 \\cdot 3 \\cdot 7 \\cdot 11$\n",
    "A: $2^2 \\cdot 3 \\cdot 11 = 132$\n",
    "6. Compute LCM(1980, 1848)  \n",
    "A: $LCM(1980, 1848) = mn/GCD(1980, 1848) = 3659040/132 = 27720$"
   ]
  },
  {
   "cell_type": "markdown",
   "metadata": {},
   "source": [
    "## 3.2 Chinese Remainder Theorem"
   ]
  },
  {
   "cell_type": "code",
   "execution_count": null,
   "metadata": {},
   "outputs": [],
   "source": []
  }
 ],
 "metadata": {
  "kernelspec": {
   "display_name": "Python 3",
   "language": "python",
   "name": "python3"
  },
  "language_info": {
   "codemirror_mode": {
    "name": "ipython",
    "version": 3
   },
   "file_extension": ".py",
   "mimetype": "text/x-python",
   "name": "python",
   "nbconvert_exporter": "python",
   "pygments_lexer": "ipython3",
   "version": "3.7.6"
  }
 },
 "nbformat": 4,
 "nbformat_minor": 2
}
